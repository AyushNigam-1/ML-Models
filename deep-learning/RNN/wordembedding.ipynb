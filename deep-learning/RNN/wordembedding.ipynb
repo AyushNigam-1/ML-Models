{
 "cells": [
  {
   "cell_type": "code",
   "execution_count": 1,
   "metadata": {},
   "outputs": [
    {
     "name": "stderr",
     "output_type": "stream",
     "text": [
      "2024-08-21 16:34:34.341160: I external/local_xla/xla/tsl/cuda/cudart_stub.cc:32] Could not find cuda drivers on your machine, GPU will not be used.\n",
      "2024-08-21 16:34:34.435620: I external/local_xla/xla/tsl/cuda/cudart_stub.cc:32] Could not find cuda drivers on your machine, GPU will not be used.\n",
      "2024-08-21 16:34:34.547607: E external/local_xla/xla/stream_executor/cuda/cuda_fft.cc:485] Unable to register cuFFT factory: Attempting to register factory for plugin cuFFT when one has already been registered\n",
      "2024-08-21 16:34:34.635331: E external/local_xla/xla/stream_executor/cuda/cuda_dnn.cc:8454] Unable to register cuDNN factory: Attempting to register factory for plugin cuDNN when one has already been registered\n",
      "2024-08-21 16:34:34.657643: E external/local_xla/xla/stream_executor/cuda/cuda_blas.cc:1452] Unable to register cuBLAS factory: Attempting to register factory for plugin cuBLAS when one has already been registered\n",
      "2024-08-21 16:34:34.788744: I tensorflow/core/platform/cpu_feature_guard.cc:210] This TensorFlow binary is optimized to use available CPU instructions in performance-critical operations.\n",
      "To enable the following instructions: AVX2 FMA, in other operations, rebuild TensorFlow with the appropriate compiler flags.\n",
      "2024-08-21 16:34:36.941897: W tensorflow/compiler/tf2tensorrt/utils/py_utils.cc:38] TF-TRT Warning: Could not find TensorRT\n"
     ]
    }
   ],
   "source": [
    "from tensorflow.keras.preprocessing.text import one_hot"
   ]
  },
  {
   "cell_type": "code",
   "execution_count": 3,
   "metadata": {},
   "outputs": [],
   "source": [
    "sent = {\n",
    "    \"the glass of milk\",\n",
    "    \"the glass of juice\",\n",
    "    \"the cup of tea\",\n",
    "    \"I am a good boy\",\n",
    "    \"I am a good developer\",\n",
    "    \"understand the meaning of words\",\n",
    "    \"your videos are good\"\n",
    "}"
   ]
  },
  {
   "cell_type": "code",
   "execution_count": 4,
   "metadata": {},
   "outputs": [
    {
     "data": {
      "text/plain": [
       "{'I am a good boy',\n",
       " 'I am a good developer',\n",
       " 'the cup of tea',\n",
       " 'the glass of juice',\n",
       " 'the glass of milk',\n",
       " 'understand the meaning of words',\n",
       " 'your videos are good'}"
      ]
     },
     "execution_count": 4,
     "metadata": {},
     "output_type": "execute_result"
    }
   ],
   "source": [
    "sent"
   ]
  },
  {
   "cell_type": "code",
   "execution_count": 5,
   "metadata": {},
   "outputs": [],
   "source": [
    "voc_size = 10000"
   ]
  },
  {
   "cell_type": "code",
   "execution_count": 6,
   "metadata": {},
   "outputs": [],
   "source": [
    "one_hot_repr = [one_hot(words,voc_size) for words in sent]"
   ]
  },
  {
   "cell_type": "code",
   "execution_count": 7,
   "metadata": {},
   "outputs": [],
   "source": [
    "from tensorflow.keras.layers import Embedding\n",
    "from tensorflow.keras.utils import pad_sequences\n",
    "from tensorflow.keras.models import Sequential"
   ]
  },
  {
   "cell_type": "code",
   "execution_count": 8,
   "metadata": {},
   "outputs": [],
   "source": [
    "import numpy as np"
   ]
  },
  {
   "cell_type": "code",
   "execution_count": 10,
   "metadata": {},
   "outputs": [
    {
     "name": "stdout",
     "output_type": "stream",
     "text": [
      "[[   0    0    0    0 4174 7977 1206 1629]\n",
      " [   0    0    0    0 4174 4240 1206 3760]\n",
      " [   0    0    0    0 4174 4240 1206  839]\n",
      " [   0    0    0 1096 5502 7725 2493 7187]\n",
      " [   0    0    0 2427 4174 9290 1206 6404]\n",
      " [   0    0    0 1096 5502 7725 2493 4821]\n",
      " [   0    0    0    0 8420 8701 9081 2493]]\n"
     ]
    }
   ],
   "source": [
    "sent_length = 8\n",
    "embedded_docs = pad_sequences(one_hot_repr,padding='pre',maxlen=sent_length)\n",
    "print(embedded_docs)"
   ]
  },
  {
   "cell_type": "code",
   "execution_count": 11,
   "metadata": {},
   "outputs": [],
   "source": [
    "dim = 10"
   ]
  },
  {
   "cell_type": "code",
   "execution_count": 13,
   "metadata": {},
   "outputs": [
    {
     "name": "stderr",
     "output_type": "stream",
     "text": [
      "/home/ayush/anaconda3/lib/python3.12/site-packages/keras/src/layers/core/embedding.py:90: UserWarning: Argument `input_length` is deprecated. Just remove it.\n",
      "  warnings.warn(\n"
     ]
    }
   ],
   "source": [
    "model = Sequential()\n",
    "model.add(Embedding(voc_size,dim,input_length=sent_length))\n",
    "model.compile('adam','mse')"
   ]
  },
  {
   "cell_type": "code",
   "execution_count": 14,
   "metadata": {},
   "outputs": [
    {
     "data": {
      "text/html": [
       "<pre style=\"white-space:pre;overflow-x:auto;line-height:normal;font-family:Menlo,'DejaVu Sans Mono',consolas,'Courier New',monospace\"><span style=\"font-weight: bold\">Model: \"sequential_1\"</span>\n",
       "</pre>\n"
      ],
      "text/plain": [
       "\u001b[1mModel: \"sequential_1\"\u001b[0m\n"
      ]
     },
     "metadata": {},
     "output_type": "display_data"
    },
    {
     "data": {
      "text/html": [
       "<pre style=\"white-space:pre;overflow-x:auto;line-height:normal;font-family:Menlo,'DejaVu Sans Mono',consolas,'Courier New',monospace\">┏━━━━━━━━━━━━━━━━━━━━━━━━━━━━━━━━━┳━━━━━━━━━━━━━━━━━━━━━━━━┳━━━━━━━━━━━━━━━┓\n",
       "┃<span style=\"font-weight: bold\"> Layer (type)                    </span>┃<span style=\"font-weight: bold\"> Output Shape           </span>┃<span style=\"font-weight: bold\">       Param # </span>┃\n",
       "┡━━━━━━━━━━━━━━━━━━━━━━━━━━━━━━━━━╇━━━━━━━━━━━━━━━━━━━━━━━━╇━━━━━━━━━━━━━━━┩\n",
       "│ embedding_1 (<span style=\"color: #0087ff; text-decoration-color: #0087ff\">Embedding</span>)         │ ?                      │   <span style=\"color: #00af00; text-decoration-color: #00af00\">0</span> (unbuilt) │\n",
       "└─────────────────────────────────┴────────────────────────┴───────────────┘\n",
       "</pre>\n"
      ],
      "text/plain": [
       "┏━━━━━━━━━━━━━━━━━━━━━━━━━━━━━━━━━┳━━━━━━━━━━━━━━━━━━━━━━━━┳━━━━━━━━━━━━━━━┓\n",
       "┃\u001b[1m \u001b[0m\u001b[1mLayer (type)                   \u001b[0m\u001b[1m \u001b[0m┃\u001b[1m \u001b[0m\u001b[1mOutput Shape          \u001b[0m\u001b[1m \u001b[0m┃\u001b[1m \u001b[0m\u001b[1m      Param #\u001b[0m\u001b[1m \u001b[0m┃\n",
       "┡━━━━━━━━━━━━━━━━━━━━━━━━━━━━━━━━━╇━━━━━━━━━━━━━━━━━━━━━━━━╇━━━━━━━━━━━━━━━┩\n",
       "│ embedding_1 (\u001b[38;5;33mEmbedding\u001b[0m)         │ ?                      │   \u001b[38;5;34m0\u001b[0m (unbuilt) │\n",
       "└─────────────────────────────────┴────────────────────────┴───────────────┘\n"
      ]
     },
     "metadata": {},
     "output_type": "display_data"
    },
    {
     "data": {
      "text/html": [
       "<pre style=\"white-space:pre;overflow-x:auto;line-height:normal;font-family:Menlo,'DejaVu Sans Mono',consolas,'Courier New',monospace\"><span style=\"font-weight: bold\"> Total params: </span><span style=\"color: #00af00; text-decoration-color: #00af00\">0</span> (0.00 B)\n",
       "</pre>\n"
      ],
      "text/plain": [
       "\u001b[1m Total params: \u001b[0m\u001b[38;5;34m0\u001b[0m (0.00 B)\n"
      ]
     },
     "metadata": {},
     "output_type": "display_data"
    },
    {
     "data": {
      "text/html": [
       "<pre style=\"white-space:pre;overflow-x:auto;line-height:normal;font-family:Menlo,'DejaVu Sans Mono',consolas,'Courier New',monospace\"><span style=\"font-weight: bold\"> Trainable params: </span><span style=\"color: #00af00; text-decoration-color: #00af00\">0</span> (0.00 B)\n",
       "</pre>\n"
      ],
      "text/plain": [
       "\u001b[1m Trainable params: \u001b[0m\u001b[38;5;34m0\u001b[0m (0.00 B)\n"
      ]
     },
     "metadata": {},
     "output_type": "display_data"
    },
    {
     "data": {
      "text/html": [
       "<pre style=\"white-space:pre;overflow-x:auto;line-height:normal;font-family:Menlo,'DejaVu Sans Mono',consolas,'Courier New',monospace\"><span style=\"font-weight: bold\"> Non-trainable params: </span><span style=\"color: #00af00; text-decoration-color: #00af00\">0</span> (0.00 B)\n",
       "</pre>\n"
      ],
      "text/plain": [
       "\u001b[1m Non-trainable params: \u001b[0m\u001b[38;5;34m0\u001b[0m (0.00 B)\n"
      ]
     },
     "metadata": {},
     "output_type": "display_data"
    }
   ],
   "source": [
    "model.summary()"
   ]
  },
  {
   "cell_type": "code",
   "execution_count": 15,
   "metadata": {},
   "outputs": [
    {
     "name": "stdout",
     "output_type": "stream",
     "text": [
      "\u001b[1m1/1\u001b[0m \u001b[32m━━━━━━━━━━━━━━━━━━━━\u001b[0m\u001b[37m\u001b[0m \u001b[1m0s\u001b[0m 125ms/step\n"
     ]
    },
    {
     "data": {
      "text/plain": [
       "array([[[-0.03260424,  0.02628894, -0.00715079,  0.02018868,\n",
       "          0.01542927, -0.00427831, -0.04009442,  0.0421882 ,\n",
       "          0.02576596,  0.04819346],\n",
       "        [-0.03260424,  0.02628894, -0.00715079,  0.02018868,\n",
       "          0.01542927, -0.00427831, -0.04009442,  0.0421882 ,\n",
       "          0.02576596,  0.04819346],\n",
       "        [-0.03260424,  0.02628894, -0.00715079,  0.02018868,\n",
       "          0.01542927, -0.00427831, -0.04009442,  0.0421882 ,\n",
       "          0.02576596,  0.04819346],\n",
       "        [-0.03260424,  0.02628894, -0.00715079,  0.02018868,\n",
       "          0.01542927, -0.00427831, -0.04009442,  0.0421882 ,\n",
       "          0.02576596,  0.04819346],\n",
       "        [ 0.00453651, -0.03327832,  0.00190494,  0.00053731,\n",
       "         -0.00275661,  0.03503628, -0.03271526, -0.04739553,\n",
       "          0.03144166, -0.03115122],\n",
       "        [ 0.02055827, -0.0149114 ,  0.01584521,  0.01103797,\n",
       "          0.00970151, -0.01471629, -0.04949722,  0.03224731,\n",
       "         -0.04651311,  0.02156937],\n",
       "        [-0.00095488, -0.02852362, -0.03390133, -0.04269838,\n",
       "         -0.04756137,  0.00996282, -0.008765  , -0.04602363,\n",
       "          0.00154423, -0.02411512],\n",
       "        [-0.00900251, -0.0288589 , -0.04380673, -0.02440257,\n",
       "         -0.02896922, -0.00782839,  0.01092749, -0.01234189,\n",
       "         -0.02324405,  0.02754662]],\n",
       "\n",
       "       [[-0.03260424,  0.02628894, -0.00715079,  0.02018868,\n",
       "          0.01542927, -0.00427831, -0.04009442,  0.0421882 ,\n",
       "          0.02576596,  0.04819346],\n",
       "        [-0.03260424,  0.02628894, -0.00715079,  0.02018868,\n",
       "          0.01542927, -0.00427831, -0.04009442,  0.0421882 ,\n",
       "          0.02576596,  0.04819346],\n",
       "        [-0.03260424,  0.02628894, -0.00715079,  0.02018868,\n",
       "          0.01542927, -0.00427831, -0.04009442,  0.0421882 ,\n",
       "          0.02576596,  0.04819346],\n",
       "        [-0.03260424,  0.02628894, -0.00715079,  0.02018868,\n",
       "          0.01542927, -0.00427831, -0.04009442,  0.0421882 ,\n",
       "          0.02576596,  0.04819346],\n",
       "        [ 0.00453651, -0.03327832,  0.00190494,  0.00053731,\n",
       "         -0.00275661,  0.03503628, -0.03271526, -0.04739553,\n",
       "          0.03144166, -0.03115122],\n",
       "        [-0.04769492,  0.00325924,  0.00202578,  0.0187145 ,\n",
       "          0.00345249,  0.01665832,  0.00982103, -0.00187478,\n",
       "         -0.04813474, -0.04235397],\n",
       "        [-0.00095488, -0.02852362, -0.03390133, -0.04269838,\n",
       "         -0.04756137,  0.00996282, -0.008765  , -0.04602363,\n",
       "          0.00154423, -0.02411512],\n",
       "        [ 0.01094329, -0.04736803, -0.00744598,  0.03992336,\n",
       "         -0.03788426,  0.00240963,  0.03120624,  0.02914996,\n",
       "          0.03326863,  0.04269672]],\n",
       "\n",
       "       [[-0.03260424,  0.02628894, -0.00715079,  0.02018868,\n",
       "          0.01542927, -0.00427831, -0.04009442,  0.0421882 ,\n",
       "          0.02576596,  0.04819346],\n",
       "        [-0.03260424,  0.02628894, -0.00715079,  0.02018868,\n",
       "          0.01542927, -0.00427831, -0.04009442,  0.0421882 ,\n",
       "          0.02576596,  0.04819346],\n",
       "        [-0.03260424,  0.02628894, -0.00715079,  0.02018868,\n",
       "          0.01542927, -0.00427831, -0.04009442,  0.0421882 ,\n",
       "          0.02576596,  0.04819346],\n",
       "        [-0.03260424,  0.02628894, -0.00715079,  0.02018868,\n",
       "          0.01542927, -0.00427831, -0.04009442,  0.0421882 ,\n",
       "          0.02576596,  0.04819346],\n",
       "        [ 0.00453651, -0.03327832,  0.00190494,  0.00053731,\n",
       "         -0.00275661,  0.03503628, -0.03271526, -0.04739553,\n",
       "          0.03144166, -0.03115122],\n",
       "        [-0.04769492,  0.00325924,  0.00202578,  0.0187145 ,\n",
       "          0.00345249,  0.01665832,  0.00982103, -0.00187478,\n",
       "         -0.04813474, -0.04235397],\n",
       "        [-0.00095488, -0.02852362, -0.03390133, -0.04269838,\n",
       "         -0.04756137,  0.00996282, -0.008765  , -0.04602363,\n",
       "          0.00154423, -0.02411512],\n",
       "        [-0.00345697, -0.0032558 , -0.00701015,  0.03812383,\n",
       "         -0.02572401, -0.04846848,  0.00174491, -0.02605069,\n",
       "          0.01329198,  0.04550597]],\n",
       "\n",
       "       [[-0.03260424,  0.02628894, -0.00715079,  0.02018868,\n",
       "          0.01542927, -0.00427831, -0.04009442,  0.0421882 ,\n",
       "          0.02576596,  0.04819346],\n",
       "        [-0.03260424,  0.02628894, -0.00715079,  0.02018868,\n",
       "          0.01542927, -0.00427831, -0.04009442,  0.0421882 ,\n",
       "          0.02576596,  0.04819346],\n",
       "        [-0.03260424,  0.02628894, -0.00715079,  0.02018868,\n",
       "          0.01542927, -0.00427831, -0.04009442,  0.0421882 ,\n",
       "          0.02576596,  0.04819346],\n",
       "        [ 0.0270958 , -0.04836602, -0.04733037, -0.03223342,\n",
       "         -0.01980141,  0.04342386, -0.03843176, -0.00955287,\n",
       "         -0.03767465,  0.02253458],\n",
       "        [ 0.02158102,  0.01347821, -0.01060598, -0.01244495,\n",
       "          0.04978511, -0.0452771 ,  0.00936332, -0.00267216,\n",
       "          0.01877961,  0.03892757],\n",
       "        [ 0.01959941,  0.04616905, -0.03272481, -0.04995   ,\n",
       "          0.01393059, -0.03206421,  0.03669219,  0.03191078,\n",
       "          0.04077827,  0.04391224],\n",
       "        [-0.0401962 , -0.02385178,  0.00776447, -0.04140315,\n",
       "         -0.04895804,  0.01415522, -0.00382495, -0.01181674,\n",
       "         -0.03050371, -0.00500034],\n",
       "        [ 0.04915622, -0.01052666,  0.03414846, -0.03068265,\n",
       "          0.04260013,  0.02320956,  0.03699254,  0.00998573,\n",
       "          0.00316843, -0.04820993]],\n",
       "\n",
       "       [[-0.03260424,  0.02628894, -0.00715079,  0.02018868,\n",
       "          0.01542927, -0.00427831, -0.04009442,  0.0421882 ,\n",
       "          0.02576596,  0.04819346],\n",
       "        [-0.03260424,  0.02628894, -0.00715079,  0.02018868,\n",
       "          0.01542927, -0.00427831, -0.04009442,  0.0421882 ,\n",
       "          0.02576596,  0.04819346],\n",
       "        [-0.03260424,  0.02628894, -0.00715079,  0.02018868,\n",
       "          0.01542927, -0.00427831, -0.04009442,  0.0421882 ,\n",
       "          0.02576596,  0.04819346],\n",
       "        [-0.03893647, -0.03104233, -0.01282579, -0.03241503,\n",
       "          0.04749229,  0.02466073, -0.00058085,  0.02205357,\n",
       "          0.0458712 , -0.03845599],\n",
       "        [ 0.00453651, -0.03327832,  0.00190494,  0.00053731,\n",
       "         -0.00275661,  0.03503628, -0.03271526, -0.04739553,\n",
       "          0.03144166, -0.03115122],\n",
       "        [-0.02330312,  0.00175907,  0.04343894,  0.01995635,\n",
       "         -0.01363502, -0.0211998 ,  0.00352068, -0.04961637,\n",
       "          0.02010098, -0.03564461],\n",
       "        [-0.00095488, -0.02852362, -0.03390133, -0.04269838,\n",
       "         -0.04756137,  0.00996282, -0.008765  , -0.04602363,\n",
       "          0.00154423, -0.02411512],\n",
       "        [ 0.02213636,  0.02891091, -0.01356071, -0.013258  ,\n",
       "          0.0461138 , -0.01089034,  0.0274915 ,  0.04312538,\n",
       "         -0.0226887 ,  0.03527509]],\n",
       "\n",
       "       [[-0.03260424,  0.02628894, -0.00715079,  0.02018868,\n",
       "          0.01542927, -0.00427831, -0.04009442,  0.0421882 ,\n",
       "          0.02576596,  0.04819346],\n",
       "        [-0.03260424,  0.02628894, -0.00715079,  0.02018868,\n",
       "          0.01542927, -0.00427831, -0.04009442,  0.0421882 ,\n",
       "          0.02576596,  0.04819346],\n",
       "        [-0.03260424,  0.02628894, -0.00715079,  0.02018868,\n",
       "          0.01542927, -0.00427831, -0.04009442,  0.0421882 ,\n",
       "          0.02576596,  0.04819346],\n",
       "        [ 0.0270958 , -0.04836602, -0.04733037, -0.03223342,\n",
       "         -0.01980141,  0.04342386, -0.03843176, -0.00955287,\n",
       "         -0.03767465,  0.02253458],\n",
       "        [ 0.02158102,  0.01347821, -0.01060598, -0.01244495,\n",
       "          0.04978511, -0.0452771 ,  0.00936332, -0.00267216,\n",
       "          0.01877961,  0.03892757],\n",
       "        [ 0.01959941,  0.04616905, -0.03272481, -0.04995   ,\n",
       "          0.01393059, -0.03206421,  0.03669219,  0.03191078,\n",
       "          0.04077827,  0.04391224],\n",
       "        [-0.0401962 , -0.02385178,  0.00776447, -0.04140315,\n",
       "         -0.04895804,  0.01415522, -0.00382495, -0.01181674,\n",
       "         -0.03050371, -0.00500034],\n",
       "        [ 0.01537024, -0.02213307, -0.04015118, -0.00494715,\n",
       "         -0.03683325, -0.03883859,  0.04275689, -0.0471767 ,\n",
       "          0.01993399, -0.03639311]],\n",
       "\n",
       "       [[-0.03260424,  0.02628894, -0.00715079,  0.02018868,\n",
       "          0.01542927, -0.00427831, -0.04009442,  0.0421882 ,\n",
       "          0.02576596,  0.04819346],\n",
       "        [-0.03260424,  0.02628894, -0.00715079,  0.02018868,\n",
       "          0.01542927, -0.00427831, -0.04009442,  0.0421882 ,\n",
       "          0.02576596,  0.04819346],\n",
       "        [-0.03260424,  0.02628894, -0.00715079,  0.02018868,\n",
       "          0.01542927, -0.00427831, -0.04009442,  0.0421882 ,\n",
       "          0.02576596,  0.04819346],\n",
       "        [-0.03260424,  0.02628894, -0.00715079,  0.02018868,\n",
       "          0.01542927, -0.00427831, -0.04009442,  0.0421882 ,\n",
       "          0.02576596,  0.04819346],\n",
       "        [-0.00300191,  0.04579165, -0.02999417,  0.00515573,\n",
       "          0.0343    ,  0.03213364,  0.02475846,  0.00052482,\n",
       "         -0.04101806, -0.03818102],\n",
       "        [-0.00143875,  0.03326405, -0.02655051, -0.00727801,\n",
       "          0.01140013, -0.02056781,  0.01910469,  0.04293228,\n",
       "          0.04557059, -0.0152385 ],\n",
       "        [ 0.0297103 , -0.02069905, -0.00857145, -0.01483301,\n",
       "         -0.02282704, -0.04968362, -0.01864585, -0.02857139,\n",
       "         -0.041111  , -0.00260977],\n",
       "        [-0.0401962 , -0.02385178,  0.00776447, -0.04140315,\n",
       "         -0.04895804,  0.01415522, -0.00382495, -0.01181674,\n",
       "         -0.03050371, -0.00500034]]], dtype=float32)"
      ]
     },
     "execution_count": 15,
     "metadata": {},
     "output_type": "execute_result"
    }
   ],
   "source": [
    "model.predict(embedded_docs)"
   ]
  }
 ],
 "metadata": {
  "kernelspec": {
   "display_name": "base",
   "language": "python",
   "name": "python3"
  },
  "language_info": {
   "codemirror_mode": {
    "name": "ipython",
    "version": 3
   },
   "file_extension": ".py",
   "mimetype": "text/x-python",
   "name": "python",
   "nbconvert_exporter": "python",
   "pygments_lexer": "ipython3",
   "version": "3.12.4"
  }
 },
 "nbformat": 4,
 "nbformat_minor": 2
}
