{
 "cells": [
  {
   "cell_type": "code",
   "execution_count": 6,
   "metadata": {},
   "outputs": [],
   "source": [
    "corpus = \"\"\" \n",
    "Hello My Name Is Ayush , And I Am Learning AI/Ml !\n",
    "And I Will Be Sharing Everything To My Linkedin , Ok Best Of Luck\n",
    "\"\"\""
   ]
  },
  {
   "cell_type": "code",
   "execution_count": 3,
   "metadata": {},
   "outputs": [
    {
     "name": "stdout",
     "output_type": "stream",
     "text": [
      " \n",
      "Hello My Name Is Ayush , And I Am Learning AI/Ml\n",
      "\n"
     ]
    }
   ],
   "source": [
    "print(corpus)"
   ]
  },
  {
   "cell_type": "code",
   "execution_count": 4,
   "metadata": {},
   "outputs": [],
   "source": [
    "from nltk.tokenize import sent_tokenize"
   ]
  },
  {
   "cell_type": "code",
   "execution_count": 7,
   "metadata": {},
   "outputs": [
    {
     "data": {
      "text/plain": [
       "[' \\nHello My Name Is Ayush , And I Am Learning AI/Ml !',\n",
       " 'And I Will Be Sharing Everything To My Linkedin , Ok Best Of Luck']"
      ]
     },
     "execution_count": 7,
     "metadata": {},
     "output_type": "execute_result"
    }
   ],
   "source": [
    "sent_tokenize(corpus)"
   ]
  },
  {
   "cell_type": "code",
   "execution_count": 8,
   "metadata": {},
   "outputs": [],
   "source": [
    "from nltk.tokenize import word_tokenize"
   ]
  },
  {
   "cell_type": "code",
   "execution_count": 9,
   "metadata": {},
   "outputs": [
    {
     "data": {
      "text/plain": [
       "['Hello',\n",
       " 'My',\n",
       " 'Name',\n",
       " 'Is',\n",
       " 'Ayush',\n",
       " ',',\n",
       " 'And',\n",
       " 'I',\n",
       " 'Am',\n",
       " 'Learning',\n",
       " 'AI/Ml',\n",
       " '!',\n",
       " 'And',\n",
       " 'I',\n",
       " 'Will',\n",
       " 'Be',\n",
       " 'Sharing',\n",
       " 'Everything',\n",
       " 'To',\n",
       " 'My',\n",
       " 'Linkedin',\n",
       " ',',\n",
       " 'Ok',\n",
       " 'Best',\n",
       " 'Of',\n",
       " 'Luck']"
      ]
     },
     "execution_count": 9,
     "metadata": {},
     "output_type": "execute_result"
    }
   ],
   "source": [
    "word_tokenize(corpus)"
   ]
  },
  {
   "cell_type": "code",
   "execution_count": 10,
   "metadata": {},
   "outputs": [],
   "source": [
    "from nltk.tokenize import word_tokenize"
   ]
  },
  {
   "cell_type": "code",
   "execution_count": 11,
   "metadata": {},
   "outputs": [
    {
     "data": {
      "text/plain": [
       "['Hello',\n",
       " 'My',\n",
       " 'Name',\n",
       " 'Is',\n",
       " 'Ayush',\n",
       " ',',\n",
       " 'And',\n",
       " 'I',\n",
       " 'Am',\n",
       " 'Learning',\n",
       " 'AI/Ml',\n",
       " '!',\n",
       " 'And',\n",
       " 'I',\n",
       " 'Will',\n",
       " 'Be',\n",
       " 'Sharing',\n",
       " 'Everything',\n",
       " 'To',\n",
       " 'My',\n",
       " 'Linkedin',\n",
       " ',',\n",
       " 'Ok',\n",
       " 'Best',\n",
       " 'Of',\n",
       " 'Luck']"
      ]
     },
     "execution_count": 11,
     "metadata": {},
     "output_type": "execute_result"
    }
   ],
   "source": [
    "word_tokenize(corpus)"
   ]
  },
  {
   "cell_type": "code",
   "execution_count": 12,
   "metadata": {},
   "outputs": [],
   "source": [
    "from nltk.tokenize import wordpunct_tokenize"
   ]
  },
  {
   "cell_type": "code",
   "execution_count": 13,
   "metadata": {},
   "outputs": [
    {
     "data": {
      "text/plain": [
       "['Hello',\n",
       " 'My',\n",
       " 'Name',\n",
       " 'Is',\n",
       " 'Ayush',\n",
       " ',',\n",
       " 'And',\n",
       " 'I',\n",
       " 'Am',\n",
       " 'Learning',\n",
       " 'AI',\n",
       " '/',\n",
       " 'Ml',\n",
       " '!',\n",
       " 'And',\n",
       " 'I',\n",
       " 'Will',\n",
       " 'Be',\n",
       " 'Sharing',\n",
       " 'Everything',\n",
       " 'To',\n",
       " 'My',\n",
       " 'Linkedin',\n",
       " ',',\n",
       " 'Ok',\n",
       " 'Best',\n",
       " 'Of',\n",
       " 'Luck']"
      ]
     },
     "execution_count": 13,
     "metadata": {},
     "output_type": "execute_result"
    }
   ],
   "source": [
    "wordpunct_tokenize(corpus)"
   ]
  },
  {
   "cell_type": "code",
   "execution_count": 29,
   "metadata": {},
   "outputs": [],
   "source": [
    "from nltk.tokenize import TreebankWordTokenizer"
   ]
  },
  {
   "cell_type": "code",
   "execution_count": 30,
   "metadata": {},
   "outputs": [],
   "source": [
    "tokenizer = TreebankWordTokenizer()"
   ]
  },
  {
   "cell_type": "code",
   "execution_count": 31,
   "metadata": {},
   "outputs": [
    {
     "data": {
      "text/plain": [
       "['Hello',\n",
       " 'My',\n",
       " 'Name',\n",
       " 'Is',\n",
       " 'Ayush',\n",
       " ',',\n",
       " 'And',\n",
       " 'I',\n",
       " 'Am',\n",
       " 'Learning',\n",
       " 'AI/Ml',\n",
       " '!',\n",
       " 'And',\n",
       " 'I',\n",
       " 'Will',\n",
       " 'Be',\n",
       " 'Sharing',\n",
       " 'Everything',\n",
       " 'To',\n",
       " 'My',\n",
       " 'Linkedin',\n",
       " ',',\n",
       " 'Ok',\n",
       " 'Best',\n",
       " 'Of',\n",
       " 'Luck']"
      ]
     },
     "execution_count": 31,
     "metadata": {},
     "output_type": "execute_result"
    }
   ],
   "source": [
    "tokenizer.tokenize(corpus)"
   ]
  }
 ],
 "metadata": {
  "kernelspec": {
   "display_name": "base",
   "language": "python",
   "name": "python3"
  },
  "language_info": {
   "codemirror_mode": {
    "name": "ipython",
    "version": 3
   },
   "file_extension": ".py",
   "mimetype": "text/x-python",
   "name": "python",
   "nbconvert_exporter": "python",
   "pygments_lexer": "ipython3",
   "version": "3.11.7"
  },
  "orig_nbformat": 4
 },
 "nbformat": 4,
 "nbformat_minor": 2
}
