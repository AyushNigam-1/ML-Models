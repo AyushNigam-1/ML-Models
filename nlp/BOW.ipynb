{
 "cells": [
  {
   "cell_type": "code",
   "execution_count": null,
   "metadata": {},
   "outputs": [],
   "source": [
    "import pandas as pd\n",
    "df = pd.read_csv(\"SMSSpamCollection\",sep='\\t',names=['label','message'])\n",
    "df"
   ]
  },
  {
   "cell_type": "code",
   "execution_count": null,
   "metadata": {},
   "outputs": [],
   "source": [
    "import re\n",
    "import nltk\n",
    "nltk.download('stopwords')"
   ]
  },
  {
   "cell_type": "code",
   "execution_count": null,
   "metadata": {},
   "outputs": [],
   "source": [
    "from nltk.corpus import stopwords\n",
    "from nltk.stem.porter import PorterStemmer\n",
    "ps = PorterStemmer()"
   ]
  },
  {
   "cell_type": "code",
   "execution_count": null,
   "metadata": {},
   "outputs": [],
   "source": [
    "corpus = []\n",
    "for i in range(0,len(df)):\n",
    "    review = re.sub('[^a-zA-Z]','',df['message'][i])\n",
    "    review = review.lower()\n",
    "    review = review.split()\n",
    "    review = [ps.stem(word) for word in review if word not in set(stopwords.words('english'))]\n",
    "    review = \" \".join(review)\n",
    "    corpus.append(review)\n"
   ]
  },
  {
   "cell_type": "code",
   "execution_count": null,
   "metadata": {},
   "outputs": [],
   "source": [
    "from sklearn.feature_extraction.text import CountVectorizer\n",
    "cv = CountVectorizer(max_features=100,binary=True)"
   ]
  },
  {
   "cell_type": "code",
   "execution_count": null,
   "metadata": {},
   "outputs": [],
   "source": [
    "X = cv.fit_transform(corpus).toarray()\n",
    "X"
   ]
  },
  {
   "cell_type": "code",
   "execution_count": null,
   "metadata": {},
   "outputs": [],
   "source": [
    "cv.vocabulary_"
   ]
  },
  {
   "cell_type": "code",
   "execution_count": 20,
   "metadata": {},
   "outputs": [
    {
     "data": {
      "text/plain": [
       "{'asperyourrequestmellemelleoruminnaminungintenurunguvettamhasbeensetasyourcallertuneforallcallerspresstocopyyourfriendscallertun': 4,\n",
       " 'nocallsmessagesmissedcal': 52,\n",
       " 'congratsyearspecialcinemapassforisyourscallnowcsuprmanvmatrixstarwarsetcallfreebxipwepmdontmissout': 9,\n",
       " 'sorryillcalllaterinmeet': 75,\n",
       " 'asavaluedcustomeriampleasedtoadviseyouthatfollowingrecentreviewofyourmobnoyouareawardedwithabonusprizecal': 2,\n",
       " 'thatscooliamagentlemanandwilltreatyouwithdignityandrespect': 79,\n",
       " 'sorryillcalllat': 74,\n",
       " 'youwillbeintheplaceofthatman': 98,\n",
       " 'asienteredmycabinmypasaidhappybdaybossifeltspecialsheaskdmelunchafterlunchsheinvitedmetoherapartmentwewentther': 3,\n",
       " 'privateyouraccountstatementforshowsunredeemedbonuspointstoclaimcallidentifiercodeexpir': 65,\n",
       " 'nonoiwillcheckallroomsbeforact': 54,\n",
       " 'yesitcompletelyinoutofformclarkalsoutterwast': 93,\n",
       " 'hiyoujustspoketomaneeshavwedliketoknowifyouweresatisfiedwiththeexperiencereplytollfreewithyesorno': 25,\n",
       " 'pleasecallourcustomerservicerepresentativeonfreephonebetweenampmasyouhavewonaguaranteedcashorpr': 63,\n",
       " 'gudmrngdearhavaniceday': 21,\n",
       " 'didugotthatpersonsstori': 13,\n",
       " 'newtheoryargumentwinsdsituationbutlosesthepersonsodontarguewithurfriendsjustkickthemampsayimalwayscorrect': 50,\n",
       " 'uhaveasecretadmirerwhoislookingmakecontactwithufindoutwhotheyrrevealwhothinksursospecialcallon': 82,\n",
       " 'wenurlovablebcumsangrywidudnttakeitseriouslycozbeingangryisdmostchildishntruewayofshowingdeepaffectioncarenluvkettodamandahavenicedayda': 88,\n",
       " 'yup': 99,\n",
       " 'hmvbonusspecialpoundsofgenuinehmvvoucherstobewonjustanswereasyquestionsplaynowsendhmvtomoreinfowwwpercentrealcom': 26,\n",
       " 'oki': 57,\n",
       " 'ok': 56,\n",
       " 'areyouthismuchbuzi': 1,\n",
       " 'icantpickthephonerightnowplssendamessag': 34,\n",
       " 'todayisacceptdayuacceptmeasbrothersisterloverdearbestcloslvblefrndjstfrndcutefrndlifpartnrbelovdswtheartbstfrndnorplymeansenemi': 81,\n",
       " 'decemberonlyhadyourmobilemthsyouareentitledtoupdatetothelatestcolourcameramobileforfreecallthemobileupdatecofreeon': 12,\n",
       " 'justsleepingandsurf': 43,\n",
       " 'aathiwhereareyoudear': 0,\n",
       " 'iwnttobuyabmwcarurgentlyitsvryurgentbuthvashortageofltgtlacsthereisnosourcetoarngdisamtltgtlacsthatsmyprob': 42,\n",
       " 'loanforanypurposehomeownerstenantswelcomehaveyoubeenpreviouslyrefusedwecanstillhelpcallfreeortextbackhelp': 45,\n",
       " 'loveyouaathiloveulot': 46,\n",
       " 'fightingwiththeworldiseasyueitherwinorlosebtfightngwithsomewhoisclosetouisdificultifuloseuloseifuwinustilllos': 16,\n",
       " 'youropinionaboutmeoverjadakusruthilovablesilentsplcharacternotmaturedstylishsimpleplsrepli': 97,\n",
       " 'prabhaimsorydarealyfrmheartimsori': 64,\n",
       " 'privateyouraccountstatementforshowsunredeemedsimpointscallidentifiercodeexpir': 66,\n",
       " 'whattodaysundaysundayisholidaysonowork': 89,\n",
       " 'ummmmmaahmanymanyhappyreturnsofddaymydearsweethearthappybirthdaydear': 83,\n",
       " 'iminameetingcallmelaterat': 41,\n",
       " 'ihadaskduaquestionsomehoursbeforeitsansw': 38,\n",
       " 'watchingcartoonlisteningmusicampatevehadtogotempleampchurchwhataboutu': 86,\n",
       " 'wishingyouandyourfamilymerryxmasandhappynewyearinadv': 91,\n",
       " 'urawardedacitybreakandcouldwinasummershoppingspreeeverywktxtstoretoskilgmetscswinawkageperwksub': 84,\n",
       " 'smsservicesforyourinclusivetextcreditsplsgotowwwcomuknetloginqxjunsubscribewithstopnoextrachargehelpcomukcma': 71,\n",
       " 'palfiemoonschildreninneedsongonurmobtellurmstxttonecharitytofornokiasorpolycharityforpolyszedprofitchar': 61,\n",
       " 'hahahauseyourbraindear': 23,\n",
       " 'wifehowsheknewthetimeofmurderexactli': 90,\n",
       " 'beautifultruthagainstgravityreadcarefullyourheartfeelslightwhensomeoneisinitbutitfeelsveryheavywhensomeoneleavesitgoodnight': 6,\n",
       " 'freeforstweeknonokiatoneurmobeveryweekjusttxtnokiatogettxtingandtellurmateswwwgetzedcoukpoboxwwqnormpton': 17,\n",
       " 'imatworkpleasecal': 40,\n",
       " 'conveymyregardstohim': 11,\n",
       " 'watmakessomepeopledearerisnotjustdehappinessdatufeelwhenumeetthembutdepainufeelwhenumissdem': 87,\n",
       " 'okokokthenwhatsurtodaysplan': 59,\n",
       " 'idontknowuandudontknowmesendchattonowandletsfindeachotheronlypmsgrcvdhgsuitelandsrowwjhlldnyearsorov': 36,\n",
       " 'kiwillsentitagain': 44,\n",
       " 'youhavenewvoicemailpleasecal': 95,\n",
       " 'nefttransactionwithreferencenumberltgtforrsltdecimalgthasbeencreditedtothebeneficiaryaccountonltgtatlttimegtltgt': 48,\n",
       " 'otherwisehadparttimejobnatuit': 60,\n",
       " 'pleasecallimmediatelyasthereisanurgentmessagewaitingfory': 62,\n",
       " 'ohhoisthisthefirsttimeuusethesetypeofword': 55,\n",
       " 'nighthasendedforanotherdaymorninghascomeinaspecialwaymayyousmilelikethesunnyraysandleavesyourworriesatthebluebluebaygudmrng': 51,\n",
       " 'goodmorningplzcallmesir': 19,\n",
       " 'hotlivefantasiescallnowjustpperminnttltdpoboxcroydoncrwbk': 30,\n",
       " 'gotowritemsgputondictionarymodecoverthescreenwithhandpressltgtgentlyremoveurhanditsinterest': 20,\n",
       " 'newmobilesfrommustgotxtnokiatonocollectyourstodayfromonlywwwtcbizoptoutgbpmtmsgtxtauct': 49,\n",
       " 'stormingmsgwenuliftdphneusayhellodouknwwtisdrealmeaningofhelloitsdnameofagirlyesanduknwwhoisdatgirlmargarethellosheisdgirlfrndfgrahmbellwhoinvntedtelphonemoralonecangetdnameofapersonbtnothisgirlfrndgoodnight': 76,\n",
       " 'stupiditsnotposs': 77,\n",
       " 'wondersinmyworldthyouthurstylethursmilethurpersonalityrdurnaturendursmsandsturlovelyfriendshipgoodmorningdear': 92,\n",
       " 'hotlivefantasiescallnowjustpperminnttltdpoboxcroydoncrwbisanationalratecal': 29,\n",
       " 'youhavewonanokiaithisiswhatyougetwhenyouwinourfreeauctiontotakepartsendnokiatonowhgsuitelandsrowwjhl': 96,\n",
       " 'iamlateiwillbethereat': 33,\n",
       " 'urgentyourmobilenumberhasbeenawardedwithaprizeguaranteedcallfromlandlineclaimvalidhrsonlyppm': 85,\n",
       " 'idonthaveanyofyourfileinmybagiwasinworkwhenyoucalledmeilltellyouififindanythinginmyroom': 35,\n",
       " 'hardlivechatjustpminchooseyourgirlandconnectlivecallnowcheapchatuksbiggestliveservicevubcmwcnxx': 24,\n",
       " 'myunclesinatlantawishyouguysagreatsemest': 47,\n",
       " 'doyouknowwhygodcreatedgapbetweenyourfingerssothatonewhoismadeforyoucomesampfillsthosegapsbyholdingyourhandwithlov': 14,\n",
       " 'thisisthendtimewehavetriedcontactuuhavewonthepoundprizeclaimiseasycallnowonlypperminbtnationalr': 80,\n",
       " 'saythisslowlygodiloveyouampineedyoucleanmyheartwithyourbloodsendthistotenspecialpeopleampucmiracletomorrowdoitplsplsdoit': 69,\n",
       " 'sorryicanthelpyouonthi': 73,\n",
       " 'hopeyouarehavingagreatday': 28,\n",
       " 'howzthatpersonsstori': 32,\n",
       " 'honeybeesaidimdsweetestindworldgodlaughedampsaidwaituhavntmetdpersonreadingthismsgmoralevengodcancrackjokesgmgngegn': 27,\n",
       " 'tessyplsdomeafavorplsconveymybirthdaywishestonimyaplsdntforgetittodayisherbirthdayshija': 78,\n",
       " 'rajiplsdomeafavourplsconveymybirthdaywishestonimyaplstodayisherbirthday': 67,\n",
       " 'sadstoryofamanlastweekwasmybdaymywifedidntwishmemyparentsforgotnsodidmykidsiwenttoworkevenmycolleaguesdidnotwish': 68,\n",
       " 'youhavenewmessagepleasecal': 94,\n",
       " 'congratulationsthankstoagoodfrienduhavewonthexmasprizeclaimiseasyjustcallnowonlypperminutebtnationalr': 10,\n",
       " 'oklor': 58,\n",
       " 'nomessagenoresponcewhathappend': 53,\n",
       " 'solvedcaseamanwasfoundmurderedonltdecimalgtltgtafternoonhiswifecalledpolicepolicequestionedeveryonewifesiriwassleepingwhenthemurdertookplacecookiwascookinggardeneriwaspickingvegetableshousemaidiwentdpostofficechildrenwewentplayneighbourwewentamarriagepolicearresteddmurdererimmediatelywhositreplywithreasonifurbrilli': 72,\n",
       " 'idontthnkitsawrongcallingbetweenu': 37,\n",
       " 'asusualiamfinehappyampdoingwel': 5,\n",
       " 'housemaidisthemurderercozthemanwasmurderedonltgtthjanuaryaspublicholidayallgovtinstituitionsareclosedincludingpostofficeunderstand': 31,\n",
       " 'shesaiddoumindifigointothebedroomforaminuteokisedinasexymoodshecameoutminutslatrwidacakenmywif': 70,\n",
       " 'doyouwantanewnokiaicolourphonedeliveredtomorrowwithfreeminutestoanymobilefreetextsfreecamcorderreplyorcal': 15,\n",
       " 'camerayouareawardedasipixdigitalcameracallfrommlandlinedeliverywithinday': 7,\n",
       " 'imathomepleasecal': 39,\n",
       " 'congratsmobilegvideophonesryourscallnowvideochatwidurmatesplayjavagamesdloadpolyhmusicnolinerentlbxipwepm': 8,\n",
       " 'gudnidearslpwelltakecareswtdreamsmuah': 22,\n",
       " 'getyourgardenreadyforsummerwithafreeselectionofsummerbulbsandseedsworthonlywiththescotsmanthissaturdaytostopgonotxtcouk': 18}"
      ]
     },
     "execution_count": 20,
     "metadata": {},
     "output_type": "execute_result"
    }
   ],
   "source": [
    "cv = CountVectorizer(max_features=100,binary=True,ngram_range=(1,2))\n",
    "X = cv.fit_transform(corpus).toarray()\n",
    "X\n",
    "cv.vocabulary_"
   ]
  },
  {
   "cell_type": "code",
   "execution_count": null,
   "metadata": {},
   "outputs": [],
   "source": []
  }
 ],
 "metadata": {
  "kernelspec": {
   "display_name": "base",
   "language": "python",
   "name": "python3"
  },
  "language_info": {
   "codemirror_mode": {
    "name": "ipython",
    "version": 3
   },
   "file_extension": ".py",
   "mimetype": "text/x-python",
   "name": "python",
   "nbconvert_exporter": "python",
   "pygments_lexer": "ipython3",
   "version": "3.12.4"
  }
 },
 "nbformat": 4,
 "nbformat_minor": 2
}
