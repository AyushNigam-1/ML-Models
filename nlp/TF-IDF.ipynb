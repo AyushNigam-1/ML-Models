{
 "cells": [
  {
   "cell_type": "code",
   "execution_count": null,
   "metadata": {},
   "outputs": [],
   "source": [
    "import pandas as pd\n",
    "df = pd.read_csv(\"SMSSpamCollection\",sep='\\t',names=['label','message'])\n",
    "df"
   ]
  },
  {
   "cell_type": "code",
   "execution_count": null,
   "metadata": {},
   "outputs": [],
   "source": [
    "import re\n",
    "import nltk\n",
    "nltk.download('stopwords')\n",
    "nltk.download(\"wordnet\")"
   ]
  },
  {
   "cell_type": "code",
   "execution_count": null,
   "metadata": {},
   "outputs": [],
   "source": [
    "from nltk.corpus import stopwords\n",
    "from nltk.stem import WordNetLemmatizer\n",
    "wordNetLemmatizer = WordNetLemmatizer()"
   ]
  },
  {
   "cell_type": "code",
   "execution_count": null,
   "metadata": {},
   "outputs": [],
   "source": [
    "corpus = []\n",
    "for i in range(0,len(df)):\n",
    "    review = re.sub('[^a-zA-Z]',' ',df['message'][i])\n",
    "    review = review.lower()\n",
    "    review = review.split()\n",
    "    review = [wordNetLemmatizer.lemmatize(word) for word in review if word not in set(stopwords.words('english'))]\n",
    "    review = \" \".join(review)\n",
    "    corpus.append(review)"
   ]
  },
  {
   "cell_type": "code",
   "execution_count": null,
   "metadata": {},
   "outputs": [],
   "source": [
    "corpus"
   ]
  },
  {
   "cell_type": "code",
   "execution_count": null,
   "metadata": {},
   "outputs": [],
   "source": [
    "from sklearn.feature_extraction.text import TfidfVectorizer"
   ]
  },
  {
   "cell_type": "code",
   "execution_count": null,
   "metadata": {},
   "outputs": [],
   "source": [
    "tfidfVectorizer = TfidfVectorizer(max_features=100)\n",
    "X = tfidfVectorizer.fit_transform(corpus).toarray()"
   ]
  },
  {
   "cell_type": "code",
   "execution_count": null,
   "metadata": {},
   "outputs": [],
   "source": [
    "import numpy as np\n",
    "np.set_printoptions(edgeitems=30,linewidth=100000,formatter=dict(float=lambda x: \"%.3g\" % x))"
   ]
  },
  {
   "cell_type": "code",
   "execution_count": null,
   "metadata": {},
   "outputs": [],
   "source": [
    "X"
   ]
  },
  {
   "cell_type": "code",
   "execution_count": 24,
   "metadata": {},
   "outputs": [
    {
     "data": {
      "text/plain": [
       "{'free entry': 32,\n",
       " 'claim call': 16,\n",
       " 'call claim': 3,\n",
       " 'claim code': 17,\n",
       " 'free call': 31,\n",
       " 'chance win': 15,\n",
       " 'txt word': 89,\n",
       " 'let know': 53,\n",
       " 'please call': 65,\n",
       " 'lt gt': 57,\n",
       " 'want go': 97,\n",
       " 'like lt': 54,\n",
       " 'sorry call': 78,\n",
       " 'call later': 8,\n",
       " 'ur awarded': 90,\n",
       " 'hi hi': 46,\n",
       " 'call customer': 4,\n",
       " 'customer service': 24,\n",
       " 'cash prize': 14,\n",
       " 'po box': 67,\n",
       " 'trying contact': 86,\n",
       " 'draw show': 29,\n",
       " 'show prize': 76,\n",
       " 'prize guaranteed': 71,\n",
       " 'guaranteed call': 42,\n",
       " 'valid hr': 95,\n",
       " 'selected receive': 73,\n",
       " 'private account': 69,\n",
       " 'account statement': 0,\n",
       " 'statement show': 80,\n",
       " 'call identifier': 5,\n",
       " 'identifier code': 49,\n",
       " 'code expires': 21,\n",
       " 'urgent mobile': 94,\n",
       " 'caller prize': 12,\n",
       " 'call landline': 7,\n",
       " 'wat time': 98,\n",
       " 'give call': 35,\n",
       " 'ur mob': 93,\n",
       " 'gud ni': 44,\n",
       " 'new year': 61,\n",
       " 'send stop': 75,\n",
       " 'co uk': 20,\n",
       " 'gud mrng': 43,\n",
       " 'nice day': 62,\n",
       " 'lt decimal': 56,\n",
       " 'decimal gt': 26,\n",
       " 'txt nokia': 87,\n",
       " 'good morning': 37,\n",
       " 'ur friend': 92,\n",
       " 'good night': 38,\n",
       " 'tried contact': 85,\n",
       " 'reply call': 72,\n",
       " 'last night': 52,\n",
       " 'camera phone': 13,\n",
       " 'pick phone': 64,\n",
       " 'pls send': 66,\n",
       " 'send message': 74,\n",
       " 'great day': 39,\n",
       " 'ur cash': 91,\n",
       " 'suite land': 81,\n",
       " 'land row': 51,\n",
       " 'good afternoon': 36,\n",
       " 'take care': 82,\n",
       " 'double min': 28,\n",
       " 'call mobileupd': 9,\n",
       " 'call optout': 10,\n",
       " 'gt min': 41,\n",
       " 'txt stop': 88,\n",
       " 'dating service': 25,\n",
       " 'pobox wq': 68,\n",
       " 'mobile number': 58,\n",
       " 'call land': 6,\n",
       " 'land line': 50,\n",
       " 'line claim': 55,\n",
       " 'claim valid': 19,\n",
       " 'gt lt': 40,\n",
       " 'hope good': 48,\n",
       " 'free text': 33,\n",
       " 'holiday cash': 47,\n",
       " 'prize claim': 70,\n",
       " 'nd attempt': 60,\n",
       " 'attempt contact': 1,\n",
       " 'claim ur': 18,\n",
       " 'show un': 77,\n",
       " 'ok lor': 63,\n",
       " 'want come': 96,\n",
       " 'every week': 30,\n",
       " 'come home': 23,\n",
       " 'happy new': 45,\n",
       " 'national rate': 59,\n",
       " 'st week': 79,\n",
       " 'week txt': 99,\n",
       " 'tell ur': 83,\n",
       " 'gift voucher': 34,\n",
       " 'await collection': 2,\n",
       " 'dont know': 27,\n",
       " 'come back': 22,\n",
       " 'call per': 11,\n",
       " 'th ur': 84}"
      ]
     },
     "execution_count": 24,
     "metadata": {},
     "output_type": "execute_result"
    }
   ],
   "source": [
    "tfidfVectorizer = TfidfVectorizer(max_features=100,ngram_range=(2,2))\n",
    "X = tfidfVectorizer.fit_transform(corpus).toarray()\n",
    "tfidfVectorizer.vocabulary_"
   ]
  },
  {
   "cell_type": "code",
   "execution_count": null,
   "metadata": {},
   "outputs": [],
   "source": []
  }
 ],
 "metadata": {
  "kernelspec": {
   "display_name": "base",
   "language": "python",
   "name": "python3"
  },
  "language_info": {
   "codemirror_mode": {
    "name": "ipython",
    "version": 3
   },
   "file_extension": ".py",
   "mimetype": "text/x-python",
   "name": "python",
   "nbconvert_exporter": "python",
   "pygments_lexer": "ipython3",
   "version": "3.12.4"
  }
 },
 "nbformat": 4,
 "nbformat_minor": 2
}
